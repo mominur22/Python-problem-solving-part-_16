{
 "cells": [
  {
   "cell_type": "markdown",
   "id": "9077289f",
   "metadata": {},
   "source": [
    "# python problem solving (part _16)"
   ]
  },
  {
   "cell_type": "markdown",
   "id": "6669b23b",
   "metadata": {},
   "source": [
    "# Break & Continue: "
   ]
  },
  {
   "cell_type": "markdown",
   "id": "ffe53bd5",
   "metadata": {},
   "source": [
    "94. Prime Number Checker: Write a Python program that takes a number as input and determines if it is a prime number or not. Use a `for` loop to check for factors. If a factor is found, `break` out of the loop."
   ]
  },
  {
   "cell_type": "code",
   "execution_count": 1,
   "id": "a4429e8b",
   "metadata": {},
   "outputs": [
    {
     "name": "stdout",
     "output_type": "stream",
     "text": [
      "29 is a prime number\n"
     ]
    }
   ],
   "source": [
    "# prime or not\n",
    "num = 29\n",
    "# define a flag variable\n",
    "flag = False\n",
    "if num == 1:\n",
    "    print(num, \"is not a prime number\")\n",
    "elif num > 1:\n",
    "    # check for factors\n",
    "    for i in range(2, num):\n",
    "        if (num % i) == 0:\n",
    "            # if factor is found, set flag to True\n",
    "            flag = True\n",
    "            # break out of loop\n",
    "            break\n",
    "    if flag:\n",
    "        print(num, \"is not a prime number\")\n",
    "    else:\n",
    "        print(num, \"is a prime number\")"
   ]
  },
  {
   "cell_type": "markdown",
   "id": "c59cf6a4",
   "metadata": {},
   "source": [
    "# 95. Even Number Printer: Write a Python program to print all even numbers from 1 to 20. Use a `for` loop and `continue` to skip odd numbers."
   ]
  },
  {
   "cell_type": "code",
   "execution_count": 2,
   "id": "3e764f79",
   "metadata": {},
   "outputs": [
    {
     "name": "stdout",
     "output_type": "stream",
     "text": [
      "4 6 8 10 12 14 "
     ]
    }
   ],
   "source": [
    "# Python program to print all even numbers  in range\n",
    "for even_numbers in range(4,15,2):\n",
    "\n",
    "    print(even_numbers,end=' ')"
   ]
  },
  {
   "cell_type": "markdown",
   "id": "fe34e53a",
   "metadata": {},
   "source": [
    "# 96. Password Validator: Write a Python program that takes a password as input and checks if it meets the following criteria: at least 8 characters long, contains both uppercase and lowercase letters, and has at least one digit. If the password is valid, print “Password accepted.” If not, use `continue` to prompt the user to enter a valid password."
   ]
  },
  {
   "cell_type": "code",
   "execution_count": null,
   "id": "d9f2f820",
   "metadata": {},
   "outputs": [],
   "source": [
    "while True:\n",
    "    password = input(\"Enter a password: \")\n",
    "    if len(password) < 8 or not any(char.isupper() for char in password) or not any(char.islower() for char in password) or not any(char.isdigit() for char in password):\n",
    "        print(\"Invalid password. Please make sure it is at least 8 characters long, contains both uppercase and lowercase letters, and has at least one digit.\")\n",
    "        continue\n",
    "    else:\n",
    "        print(\"Password accepted.\")\n",
    "        break\n"
   ]
  },
  {
   "cell_type": "markdown",
   "id": "1aae93e4",
   "metadata": {},
   "source": [
    "# 97. Divisible by 3 or 5: Write a Python program to print all numbers from 1 to 50 that are divisible by either 3 or 5. Use a `for` loop and `continue` to skip numbers that are not divisible by either 3 or 5."
   ]
  },
  {
   "cell_type": "code",
   "execution_count": null,
   "id": "c2dd56d8",
   "metadata": {},
   "outputs": [],
   "source": [
    "for number in range(1, 51):\n",
    "    if number % 3 != 0 and number % 5 != 0:  # Skip numbers not divisible by either 3 or 5\n",
    "        continue\n",
    "    print(number)"
   ]
  },
  {
   "cell_type": "markdown",
   "id": "6b1363fe",
   "metadata": {},
   "source": [
    "# 98. Positive Number Sum: Write a Python program that takes positive numbers as input until a negative number is entered. Then, calculate and print the sum of all positive numbers entered. Use a `while` loop and `break` to exit the loop when a negative number is encountered."
   ]
  },
  {
   "cell_type": "code",
   "execution_count": null,
   "id": "7124c3df",
   "metadata": {},
   "outputs": [],
   "source": [
    "otal_sum = 0\n",
    "while True:\n",
    "    user_input = float(input(\"Enter a positive number (enter a negative number to exit): \"))\n",
    "    if user_input >= 0:\n",
    "        total_sum += user_input\n",
    "    else:\n",
    "        break\n",
    "print(\"Sum of positive numbers:\", total_sum)\n"
   ]
  },
  {
   "cell_type": "markdown",
   "id": "171a9cb2",
   "metadata": {},
   "source": [
    "# 99. Word Palindrome Checker: Write a Python program that takes a word as input and checks if it is a palindrome (reads the same forwards and backward). Use `continue` to skip checking the word if its length is less than 3 characters."
   ]
  },
  {
   "cell_type": "code",
   "execution_count": null,
   "id": "637c66e9",
   "metadata": {},
   "outputs": [],
   "source": [
    "def is_palindrome(word):\n",
    "    return word == word[::-1]\n",
    "while True:\n",
    "    user_input = input(\"Enter a word (enter 'exit' to end): \")\n",
    "    if user_input.lower() == 'exit':\n",
    "        break\n",
    "    if len(user_input) < 3:\n",
    "        print(\"Word length is less than 3 characters. Skipping.\")\n",
    "        continue\n",
    "    if is_palindrome(user_input):\n",
    "        print(f\"{user_input} is a palindrome!\")\n",
    "    else:\n",
    "        print(f\"{user_input} is not a palindrome.\")"
   ]
  },
  {
   "cell_type": "markdown",
   "id": "f7ec27e1",
   "metadata": {},
   "source": [
    "# 100. Odd Number Finder: Write a Python program to find the first odd number from a list of integers. Use a `for` loop and `break` to stop the loop when the first odd number is found."
   ]
  },
  {
   "cell_type": "code",
   "execution_count": null,
   "id": "2962438e",
   "metadata": {},
   "outputs": [],
   "source": [
    "integer_list = [2, 4, 7, 10, 12, 14, 17, 20]\n",
    "for number in integer_list:\n",
    "    if number % 2 != 0:  \n",
    "        print(f\"The first odd number in the list is: {number}\")\n",
    "        break"
   ]
  },
  {
   "cell_type": "code",
   "execution_count": null,
   "id": "2329d6a7",
   "metadata": {},
   "outputs": [],
   "source": []
  }
 ],
 "metadata": {
  "kernelspec": {
   "display_name": "Python 3 (ipykernel)",
   "language": "python",
   "name": "python3"
  },
  "language_info": {
   "codemirror_mode": {
    "name": "ipython",
    "version": 3
   },
   "file_extension": ".py",
   "mimetype": "text/x-python",
   "name": "python",
   "nbconvert_exporter": "python",
   "pygments_lexer": "ipython3",
   "version": "3.11.5"
  }
 },
 "nbformat": 4,
 "nbformat_minor": 5
}
